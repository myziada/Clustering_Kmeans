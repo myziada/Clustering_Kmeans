{
  "nbformat": 4,
  "nbformat_minor": 0,
  "metadata": {
    "colab": {
      "provenance": []
    },
    "kernelspec": {
      "name": "python3",
      "display_name": "Python 3"
    },
    "language_info": {
      "name": "python"
    }
  },
  "cells": [
    {
      "cell_type": "markdown",
      "source": [
        "# Read Dataset"
      ],
      "metadata": {
        "id": "AcXSFTHTIKiW"
      }
    },
    {
      "cell_type": "code",
      "source": [
        "import numpy as np\n",
        "import pandas as pd\n",
        "import matplotlib.pyplot as plt\n",
        "\n",
        "from sklearn.preprocessing import LabelEncoder\n",
        "from sklearn.preprocessing import StandardScaler"
      ],
      "metadata": {
        "id": "-VJttX41dkDz"
      },
      "execution_count": null,
      "outputs": []
    },
    {
      "cell_type": "code",
      "execution_count": null,
      "metadata": {
        "colab": {
          "base_uri": "https://localhost:8080/",
          "height": 206
        },
        "id": "0riKLGVFH2sr",
        "outputId": "3e7f832b-db33-4947-eee1-16e621b25415"
      },
      "outputs": [
        {
          "output_type": "execute_result",
          "data": {
            "text/html": [
              "\n",
              "  <div id=\"df-95105eaf-ab8f-4b24-bc86-dc1834cb7aaa\">\n",
              "    <div class=\"colab-df-container\">\n",
              "      <div>\n",
              "<style scoped>\n",
              "    .dataframe tbody tr th:only-of-type {\n",
              "        vertical-align: middle;\n",
              "    }\n",
              "\n",
              "    .dataframe tbody tr th {\n",
              "        vertical-align: top;\n",
              "    }\n",
              "\n",
              "    .dataframe thead th {\n",
              "        text-align: right;\n",
              "    }\n",
              "</style>\n",
              "<table border=\"1\" class=\"dataframe\">\n",
              "  <thead>\n",
              "    <tr style=\"text-align: right;\">\n",
              "      <th></th>\n",
              "      <th>CustomerID</th>\n",
              "      <th>Gender</th>\n",
              "      <th>Age</th>\n",
              "      <th>Annual Income (k$)</th>\n",
              "      <th>Spending Score (1-100)</th>\n",
              "    </tr>\n",
              "  </thead>\n",
              "  <tbody>\n",
              "    <tr>\n",
              "      <th>0</th>\n",
              "      <td>1</td>\n",
              "      <td>Male</td>\n",
              "      <td>19</td>\n",
              "      <td>15</td>\n",
              "      <td>39</td>\n",
              "    </tr>\n",
              "    <tr>\n",
              "      <th>1</th>\n",
              "      <td>2</td>\n",
              "      <td>Male</td>\n",
              "      <td>21</td>\n",
              "      <td>15</td>\n",
              "      <td>81</td>\n",
              "    </tr>\n",
              "    <tr>\n",
              "      <th>2</th>\n",
              "      <td>3</td>\n",
              "      <td>Female</td>\n",
              "      <td>20</td>\n",
              "      <td>16</td>\n",
              "      <td>6</td>\n",
              "    </tr>\n",
              "    <tr>\n",
              "      <th>3</th>\n",
              "      <td>4</td>\n",
              "      <td>Female</td>\n",
              "      <td>23</td>\n",
              "      <td>16</td>\n",
              "      <td>77</td>\n",
              "    </tr>\n",
              "    <tr>\n",
              "      <th>4</th>\n",
              "      <td>5</td>\n",
              "      <td>Female</td>\n",
              "      <td>31</td>\n",
              "      <td>17</td>\n",
              "      <td>40</td>\n",
              "    </tr>\n",
              "  </tbody>\n",
              "</table>\n",
              "</div>\n",
              "      <button class=\"colab-df-convert\" onclick=\"convertToInteractive('df-95105eaf-ab8f-4b24-bc86-dc1834cb7aaa')\"\n",
              "              title=\"Convert this dataframe to an interactive table.\"\n",
              "              style=\"display:none;\">\n",
              "        \n",
              "  <svg xmlns=\"http://www.w3.org/2000/svg\" height=\"24px\"viewBox=\"0 0 24 24\"\n",
              "       width=\"24px\">\n",
              "    <path d=\"M0 0h24v24H0V0z\" fill=\"none\"/>\n",
              "    <path d=\"M18.56 5.44l.94 2.06.94-2.06 2.06-.94-2.06-.94-.94-2.06-.94 2.06-2.06.94zm-11 1L8.5 8.5l.94-2.06 2.06-.94-2.06-.94L8.5 2.5l-.94 2.06-2.06.94zm10 10l.94 2.06.94-2.06 2.06-.94-2.06-.94-.94-2.06-.94 2.06-2.06.94z\"/><path d=\"M17.41 7.96l-1.37-1.37c-.4-.4-.92-.59-1.43-.59-.52 0-1.04.2-1.43.59L10.3 9.45l-7.72 7.72c-.78.78-.78 2.05 0 2.83L4 21.41c.39.39.9.59 1.41.59.51 0 1.02-.2 1.41-.59l7.78-7.78 2.81-2.81c.8-.78.8-2.07 0-2.86zM5.41 20L4 18.59l7.72-7.72 1.47 1.35L5.41 20z\"/>\n",
              "  </svg>\n",
              "      </button>\n",
              "      \n",
              "  <style>\n",
              "    .colab-df-container {\n",
              "      display:flex;\n",
              "      flex-wrap:wrap;\n",
              "      gap: 12px;\n",
              "    }\n",
              "\n",
              "    .colab-df-convert {\n",
              "      background-color: #E8F0FE;\n",
              "      border: none;\n",
              "      border-radius: 50%;\n",
              "      cursor: pointer;\n",
              "      display: none;\n",
              "      fill: #1967D2;\n",
              "      height: 32px;\n",
              "      padding: 0 0 0 0;\n",
              "      width: 32px;\n",
              "    }\n",
              "\n",
              "    .colab-df-convert:hover {\n",
              "      background-color: #E2EBFA;\n",
              "      box-shadow: 0px 1px 2px rgba(60, 64, 67, 0.3), 0px 1px 3px 1px rgba(60, 64, 67, 0.15);\n",
              "      fill: #174EA6;\n",
              "    }\n",
              "\n",
              "    [theme=dark] .colab-df-convert {\n",
              "      background-color: #3B4455;\n",
              "      fill: #D2E3FC;\n",
              "    }\n",
              "\n",
              "    [theme=dark] .colab-df-convert:hover {\n",
              "      background-color: #434B5C;\n",
              "      box-shadow: 0px 1px 3px 1px rgba(0, 0, 0, 0.15);\n",
              "      filter: drop-shadow(0px 1px 2px rgba(0, 0, 0, 0.3));\n",
              "      fill: #FFFFFF;\n",
              "    }\n",
              "  </style>\n",
              "\n",
              "      <script>\n",
              "        const buttonEl =\n",
              "          document.querySelector('#df-95105eaf-ab8f-4b24-bc86-dc1834cb7aaa button.colab-df-convert');\n",
              "        buttonEl.style.display =\n",
              "          google.colab.kernel.accessAllowed ? 'block' : 'none';\n",
              "\n",
              "        async function convertToInteractive(key) {\n",
              "          const element = document.querySelector('#df-95105eaf-ab8f-4b24-bc86-dc1834cb7aaa');\n",
              "          const dataTable =\n",
              "            await google.colab.kernel.invokeFunction('convertToInteractive',\n",
              "                                                     [key], {});\n",
              "          if (!dataTable) return;\n",
              "\n",
              "          const docLinkHtml = 'Like what you see? Visit the ' +\n",
              "            '<a target=\"_blank\" href=https://colab.research.google.com/notebooks/data_table.ipynb>data table notebook</a>'\n",
              "            + ' to learn more about interactive tables.';\n",
              "          element.innerHTML = '';\n",
              "          dataTable['output_type'] = 'display_data';\n",
              "          await google.colab.output.renderOutput(dataTable, element);\n",
              "          const docLink = document.createElement('div');\n",
              "          docLink.innerHTML = docLinkHtml;\n",
              "          element.appendChild(docLink);\n",
              "        }\n",
              "      </script>\n",
              "    </div>\n",
              "  </div>\n",
              "  "
            ],
            "text/plain": [
              "   CustomerID  Gender  Age  Annual Income (k$)  Spending Score (1-100)\n",
              "0           1    Male   19                  15                      39\n",
              "1           2    Male   21                  15                      81\n",
              "2           3  Female   20                  16                       6\n",
              "3           4  Female   23                  16                      77\n",
              "4           5  Female   31                  17                      40"
            ]
          },
          "metadata": {},
          "execution_count": 3
        }
      ],
      "source": [
        "df = pd.read_csv('https://raw.githubusercontent.com/ganjar87/data_science_practice/main/Mall_Customers.csv', delimiter=',')\n",
        "df.head()\n",
        "#df.describe()"
      ]
    },
    {
      "cell_type": "markdown",
      "source": [
        "# Dataset Description"
      ],
      "metadata": {
        "id": "-pdKcjqNO_4b"
      }
    },
    {
      "cell_type": "code",
      "source": [
        "df.shape"
      ],
      "metadata": {
        "colab": {
          "base_uri": "https://localhost:8080/"
        },
        "id": "wOdT3pm2KGth",
        "outputId": "529dbbfe-1a94-4d51-bba5-3c16fe697842"
      },
      "execution_count": null,
      "outputs": [
        {
          "output_type": "execute_result",
          "data": {
            "text/plain": [
              "(200, 5)"
            ]
          },
          "metadata": {},
          "execution_count": 4
        }
      ]
    },
    {
      "cell_type": "code",
      "source": [
        "df.info()"
      ],
      "metadata": {
        "colab": {
          "base_uri": "https://localhost:8080/"
        },
        "id": "7-EvA_kwKCSL",
        "outputId": "9ef3242e-7c2f-4e9a-bb13-c638fd0bbc78"
      },
      "execution_count": null,
      "outputs": [
        {
          "output_type": "stream",
          "name": "stdout",
          "text": [
            "<class 'pandas.core.frame.DataFrame'>\n",
            "RangeIndex: 200 entries, 0 to 199\n",
            "Data columns (total 5 columns):\n",
            " #   Column                  Non-Null Count  Dtype \n",
            "---  ------                  --------------  ----- \n",
            " 0   CustomerID              200 non-null    int64 \n",
            " 1   Gender                  200 non-null    object\n",
            " 2   Age                     200 non-null    int64 \n",
            " 3   Annual Income (k$)      200 non-null    int64 \n",
            " 4   Spending Score (1-100)  200 non-null    int64 \n",
            "dtypes: int64(4), object(1)\n",
            "memory usage: 7.9+ KB\n"
          ]
        }
      ]
    },
    {
      "cell_type": "code",
      "source": [
        "df.describe().T"
      ],
      "metadata": {
        "colab": {
          "base_uri": "https://localhost:8080/",
          "height": 175
        },
        "id": "ChE4tE4jKSu7",
        "outputId": "c8265bea-88bf-444f-ac9a-91d1177c5684"
      },
      "execution_count": null,
      "outputs": [
        {
          "output_type": "execute_result",
          "data": {
            "text/html": [
              "\n",
              "  <div id=\"df-f04e6d45-522b-479c-97f1-fd129eae67f3\">\n",
              "    <div class=\"colab-df-container\">\n",
              "      <div>\n",
              "<style scoped>\n",
              "    .dataframe tbody tr th:only-of-type {\n",
              "        vertical-align: middle;\n",
              "    }\n",
              "\n",
              "    .dataframe tbody tr th {\n",
              "        vertical-align: top;\n",
              "    }\n",
              "\n",
              "    .dataframe thead th {\n",
              "        text-align: right;\n",
              "    }\n",
              "</style>\n",
              "<table border=\"1\" class=\"dataframe\">\n",
              "  <thead>\n",
              "    <tr style=\"text-align: right;\">\n",
              "      <th></th>\n",
              "      <th>count</th>\n",
              "      <th>mean</th>\n",
              "      <th>std</th>\n",
              "      <th>min</th>\n",
              "      <th>25%</th>\n",
              "      <th>50%</th>\n",
              "      <th>75%</th>\n",
              "      <th>max</th>\n",
              "    </tr>\n",
              "  </thead>\n",
              "  <tbody>\n",
              "    <tr>\n",
              "      <th>CustomerID</th>\n",
              "      <td>200.0</td>\n",
              "      <td>100.50</td>\n",
              "      <td>57.879185</td>\n",
              "      <td>1.0</td>\n",
              "      <td>50.75</td>\n",
              "      <td>100.5</td>\n",
              "      <td>150.25</td>\n",
              "      <td>200.0</td>\n",
              "    </tr>\n",
              "    <tr>\n",
              "      <th>Age</th>\n",
              "      <td>200.0</td>\n",
              "      <td>38.85</td>\n",
              "      <td>13.969007</td>\n",
              "      <td>18.0</td>\n",
              "      <td>28.75</td>\n",
              "      <td>36.0</td>\n",
              "      <td>49.00</td>\n",
              "      <td>70.0</td>\n",
              "    </tr>\n",
              "    <tr>\n",
              "      <th>Annual Income (k$)</th>\n",
              "      <td>200.0</td>\n",
              "      <td>60.56</td>\n",
              "      <td>26.264721</td>\n",
              "      <td>15.0</td>\n",
              "      <td>41.50</td>\n",
              "      <td>61.5</td>\n",
              "      <td>78.00</td>\n",
              "      <td>137.0</td>\n",
              "    </tr>\n",
              "    <tr>\n",
              "      <th>Spending Score (1-100)</th>\n",
              "      <td>200.0</td>\n",
              "      <td>50.20</td>\n",
              "      <td>25.823522</td>\n",
              "      <td>1.0</td>\n",
              "      <td>34.75</td>\n",
              "      <td>50.0</td>\n",
              "      <td>73.00</td>\n",
              "      <td>99.0</td>\n",
              "    </tr>\n",
              "  </tbody>\n",
              "</table>\n",
              "</div>\n",
              "      <button class=\"colab-df-convert\" onclick=\"convertToInteractive('df-f04e6d45-522b-479c-97f1-fd129eae67f3')\"\n",
              "              title=\"Convert this dataframe to an interactive table.\"\n",
              "              style=\"display:none;\">\n",
              "        \n",
              "  <svg xmlns=\"http://www.w3.org/2000/svg\" height=\"24px\"viewBox=\"0 0 24 24\"\n",
              "       width=\"24px\">\n",
              "    <path d=\"M0 0h24v24H0V0z\" fill=\"none\"/>\n",
              "    <path d=\"M18.56 5.44l.94 2.06.94-2.06 2.06-.94-2.06-.94-.94-2.06-.94 2.06-2.06.94zm-11 1L8.5 8.5l.94-2.06 2.06-.94-2.06-.94L8.5 2.5l-.94 2.06-2.06.94zm10 10l.94 2.06.94-2.06 2.06-.94-2.06-.94-.94-2.06-.94 2.06-2.06.94z\"/><path d=\"M17.41 7.96l-1.37-1.37c-.4-.4-.92-.59-1.43-.59-.52 0-1.04.2-1.43.59L10.3 9.45l-7.72 7.72c-.78.78-.78 2.05 0 2.83L4 21.41c.39.39.9.59 1.41.59.51 0 1.02-.2 1.41-.59l7.78-7.78 2.81-2.81c.8-.78.8-2.07 0-2.86zM5.41 20L4 18.59l7.72-7.72 1.47 1.35L5.41 20z\"/>\n",
              "  </svg>\n",
              "      </button>\n",
              "      \n",
              "  <style>\n",
              "    .colab-df-container {\n",
              "      display:flex;\n",
              "      flex-wrap:wrap;\n",
              "      gap: 12px;\n",
              "    }\n",
              "\n",
              "    .colab-df-convert {\n",
              "      background-color: #E8F0FE;\n",
              "      border: none;\n",
              "      border-radius: 50%;\n",
              "      cursor: pointer;\n",
              "      display: none;\n",
              "      fill: #1967D2;\n",
              "      height: 32px;\n",
              "      padding: 0 0 0 0;\n",
              "      width: 32px;\n",
              "    }\n",
              "\n",
              "    .colab-df-convert:hover {\n",
              "      background-color: #E2EBFA;\n",
              "      box-shadow: 0px 1px 2px rgba(60, 64, 67, 0.3), 0px 1px 3px 1px rgba(60, 64, 67, 0.15);\n",
              "      fill: #174EA6;\n",
              "    }\n",
              "\n",
              "    [theme=dark] .colab-df-convert {\n",
              "      background-color: #3B4455;\n",
              "      fill: #D2E3FC;\n",
              "    }\n",
              "\n",
              "    [theme=dark] .colab-df-convert:hover {\n",
              "      background-color: #434B5C;\n",
              "      box-shadow: 0px 1px 3px 1px rgba(0, 0, 0, 0.15);\n",
              "      filter: drop-shadow(0px 1px 2px rgba(0, 0, 0, 0.3));\n",
              "      fill: #FFFFFF;\n",
              "    }\n",
              "  </style>\n",
              "\n",
              "      <script>\n",
              "        const buttonEl =\n",
              "          document.querySelector('#df-f04e6d45-522b-479c-97f1-fd129eae67f3 button.colab-df-convert');\n",
              "        buttonEl.style.display =\n",
              "          google.colab.kernel.accessAllowed ? 'block' : 'none';\n",
              "\n",
              "        async function convertToInteractive(key) {\n",
              "          const element = document.querySelector('#df-f04e6d45-522b-479c-97f1-fd129eae67f3');\n",
              "          const dataTable =\n",
              "            await google.colab.kernel.invokeFunction('convertToInteractive',\n",
              "                                                     [key], {});\n",
              "          if (!dataTable) return;\n",
              "\n",
              "          const docLinkHtml = 'Like what you see? Visit the ' +\n",
              "            '<a target=\"_blank\" href=https://colab.research.google.com/notebooks/data_table.ipynb>data table notebook</a>'\n",
              "            + ' to learn more about interactive tables.';\n",
              "          element.innerHTML = '';\n",
              "          dataTable['output_type'] = 'display_data';\n",
              "          await google.colab.output.renderOutput(dataTable, element);\n",
              "          const docLink = document.createElement('div');\n",
              "          docLink.innerHTML = docLinkHtml;\n",
              "          element.appendChild(docLink);\n",
              "        }\n",
              "      </script>\n",
              "    </div>\n",
              "  </div>\n",
              "  "
            ],
            "text/plain": [
              "                        count    mean        std  ...    50%     75%    max\n",
              "CustomerID              200.0  100.50  57.879185  ...  100.5  150.25  200.0\n",
              "Age                     200.0   38.85  13.969007  ...   36.0   49.00   70.0\n",
              "Annual Income (k$)      200.0   60.56  26.264721  ...   61.5   78.00  137.0\n",
              "Spending Score (1-100)  200.0   50.20  25.823522  ...   50.0   73.00   99.0\n",
              "\n",
              "[4 rows x 8 columns]"
            ]
          },
          "metadata": {},
          "execution_count": 6
        }
      ]
    },
    {
      "cell_type": "code",
      "source": [
        "df.corr()"
      ],
      "metadata": {
        "colab": {
          "base_uri": "https://localhost:8080/",
          "height": 175
        },
        "id": "EJFRoK4kKkup",
        "outputId": "b4275a38-8afa-4125-d478-608286449932"
      },
      "execution_count": null,
      "outputs": [
        {
          "output_type": "execute_result",
          "data": {
            "text/html": [
              "\n",
              "  <div id=\"df-0c24f4f2-a18b-4465-bf6f-bb6679e333ca\">\n",
              "    <div class=\"colab-df-container\">\n",
              "      <div>\n",
              "<style scoped>\n",
              "    .dataframe tbody tr th:only-of-type {\n",
              "        vertical-align: middle;\n",
              "    }\n",
              "\n",
              "    .dataframe tbody tr th {\n",
              "        vertical-align: top;\n",
              "    }\n",
              "\n",
              "    .dataframe thead th {\n",
              "        text-align: right;\n",
              "    }\n",
              "</style>\n",
              "<table border=\"1\" class=\"dataframe\">\n",
              "  <thead>\n",
              "    <tr style=\"text-align: right;\">\n",
              "      <th></th>\n",
              "      <th>CustomerID</th>\n",
              "      <th>Age</th>\n",
              "      <th>Annual Income (k$)</th>\n",
              "      <th>Spending Score (1-100)</th>\n",
              "    </tr>\n",
              "  </thead>\n",
              "  <tbody>\n",
              "    <tr>\n",
              "      <th>CustomerID</th>\n",
              "      <td>1.000000</td>\n",
              "      <td>-0.026763</td>\n",
              "      <td>0.977548</td>\n",
              "      <td>0.013835</td>\n",
              "    </tr>\n",
              "    <tr>\n",
              "      <th>Age</th>\n",
              "      <td>-0.026763</td>\n",
              "      <td>1.000000</td>\n",
              "      <td>-0.012398</td>\n",
              "      <td>-0.327227</td>\n",
              "    </tr>\n",
              "    <tr>\n",
              "      <th>Annual Income (k$)</th>\n",
              "      <td>0.977548</td>\n",
              "      <td>-0.012398</td>\n",
              "      <td>1.000000</td>\n",
              "      <td>0.009903</td>\n",
              "    </tr>\n",
              "    <tr>\n",
              "      <th>Spending Score (1-100)</th>\n",
              "      <td>0.013835</td>\n",
              "      <td>-0.327227</td>\n",
              "      <td>0.009903</td>\n",
              "      <td>1.000000</td>\n",
              "    </tr>\n",
              "  </tbody>\n",
              "</table>\n",
              "</div>\n",
              "      <button class=\"colab-df-convert\" onclick=\"convertToInteractive('df-0c24f4f2-a18b-4465-bf6f-bb6679e333ca')\"\n",
              "              title=\"Convert this dataframe to an interactive table.\"\n",
              "              style=\"display:none;\">\n",
              "        \n",
              "  <svg xmlns=\"http://www.w3.org/2000/svg\" height=\"24px\"viewBox=\"0 0 24 24\"\n",
              "       width=\"24px\">\n",
              "    <path d=\"M0 0h24v24H0V0z\" fill=\"none\"/>\n",
              "    <path d=\"M18.56 5.44l.94 2.06.94-2.06 2.06-.94-2.06-.94-.94-2.06-.94 2.06-2.06.94zm-11 1L8.5 8.5l.94-2.06 2.06-.94-2.06-.94L8.5 2.5l-.94 2.06-2.06.94zm10 10l.94 2.06.94-2.06 2.06-.94-2.06-.94-.94-2.06-.94 2.06-2.06.94z\"/><path d=\"M17.41 7.96l-1.37-1.37c-.4-.4-.92-.59-1.43-.59-.52 0-1.04.2-1.43.59L10.3 9.45l-7.72 7.72c-.78.78-.78 2.05 0 2.83L4 21.41c.39.39.9.59 1.41.59.51 0 1.02-.2 1.41-.59l7.78-7.78 2.81-2.81c.8-.78.8-2.07 0-2.86zM5.41 20L4 18.59l7.72-7.72 1.47 1.35L5.41 20z\"/>\n",
              "  </svg>\n",
              "      </button>\n",
              "      \n",
              "  <style>\n",
              "    .colab-df-container {\n",
              "      display:flex;\n",
              "      flex-wrap:wrap;\n",
              "      gap: 12px;\n",
              "    }\n",
              "\n",
              "    .colab-df-convert {\n",
              "      background-color: #E8F0FE;\n",
              "      border: none;\n",
              "      border-radius: 50%;\n",
              "      cursor: pointer;\n",
              "      display: none;\n",
              "      fill: #1967D2;\n",
              "      height: 32px;\n",
              "      padding: 0 0 0 0;\n",
              "      width: 32px;\n",
              "    }\n",
              "\n",
              "    .colab-df-convert:hover {\n",
              "      background-color: #E2EBFA;\n",
              "      box-shadow: 0px 1px 2px rgba(60, 64, 67, 0.3), 0px 1px 3px 1px rgba(60, 64, 67, 0.15);\n",
              "      fill: #174EA6;\n",
              "    }\n",
              "\n",
              "    [theme=dark] .colab-df-convert {\n",
              "      background-color: #3B4455;\n",
              "      fill: #D2E3FC;\n",
              "    }\n",
              "\n",
              "    [theme=dark] .colab-df-convert:hover {\n",
              "      background-color: #434B5C;\n",
              "      box-shadow: 0px 1px 3px 1px rgba(0, 0, 0, 0.15);\n",
              "      filter: drop-shadow(0px 1px 2px rgba(0, 0, 0, 0.3));\n",
              "      fill: #FFFFFF;\n",
              "    }\n",
              "  </style>\n",
              "\n",
              "      <script>\n",
              "        const buttonEl =\n",
              "          document.querySelector('#df-0c24f4f2-a18b-4465-bf6f-bb6679e333ca button.colab-df-convert');\n",
              "        buttonEl.style.display =\n",
              "          google.colab.kernel.accessAllowed ? 'block' : 'none';\n",
              "\n",
              "        async function convertToInteractive(key) {\n",
              "          const element = document.querySelector('#df-0c24f4f2-a18b-4465-bf6f-bb6679e333ca');\n",
              "          const dataTable =\n",
              "            await google.colab.kernel.invokeFunction('convertToInteractive',\n",
              "                                                     [key], {});\n",
              "          if (!dataTable) return;\n",
              "\n",
              "          const docLinkHtml = 'Like what you see? Visit the ' +\n",
              "            '<a target=\"_blank\" href=https://colab.research.google.com/notebooks/data_table.ipynb>data table notebook</a>'\n",
              "            + ' to learn more about interactive tables.';\n",
              "          element.innerHTML = '';\n",
              "          dataTable['output_type'] = 'display_data';\n",
              "          await google.colab.output.renderOutput(dataTable, element);\n",
              "          const docLink = document.createElement('div');\n",
              "          docLink.innerHTML = docLinkHtml;\n",
              "          element.appendChild(docLink);\n",
              "        }\n",
              "      </script>\n",
              "    </div>\n",
              "  </div>\n",
              "  "
            ],
            "text/plain": [
              "                        CustomerID  ...  Spending Score (1-100)\n",
              "CustomerID                1.000000  ...                0.013835\n",
              "Age                      -0.026763  ...               -0.327227\n",
              "Annual Income (k$)        0.977548  ...                0.009903\n",
              "Spending Score (1-100)    0.013835  ...                1.000000\n",
              "\n",
              "[4 rows x 4 columns]"
            ]
          },
          "metadata": {},
          "execution_count": 33
        }
      ]
    },
    {
      "cell_type": "markdown",
      "source": [
        "# Preprocessing"
      ],
      "metadata": {
        "id": "jyy55VmjPF36"
      }
    },
    {
      "cell_type": "code",
      "source": [
        "df_new = df.drop('CustomerID', axis = 1)\n",
        "df_new.head()"
      ],
      "metadata": {
        "colab": {
          "base_uri": "https://localhost:8080/",
          "height": 206
        },
        "id": "OxE-xJKdKxqQ",
        "outputId": "da4d0804-a928-4652-c13c-5ee32559352c"
      },
      "execution_count": null,
      "outputs": [
        {
          "output_type": "execute_result",
          "data": {
            "text/html": [
              "\n",
              "  <div id=\"df-a1cb2e68-2c9f-4a3c-803e-5a863e591af4\">\n",
              "    <div class=\"colab-df-container\">\n",
              "      <div>\n",
              "<style scoped>\n",
              "    .dataframe tbody tr th:only-of-type {\n",
              "        vertical-align: middle;\n",
              "    }\n",
              "\n",
              "    .dataframe tbody tr th {\n",
              "        vertical-align: top;\n",
              "    }\n",
              "\n",
              "    .dataframe thead th {\n",
              "        text-align: right;\n",
              "    }\n",
              "</style>\n",
              "<table border=\"1\" class=\"dataframe\">\n",
              "  <thead>\n",
              "    <tr style=\"text-align: right;\">\n",
              "      <th></th>\n",
              "      <th>Gender</th>\n",
              "      <th>Age</th>\n",
              "      <th>Annual Income (k$)</th>\n",
              "      <th>Spending Score (1-100)</th>\n",
              "    </tr>\n",
              "  </thead>\n",
              "  <tbody>\n",
              "    <tr>\n",
              "      <th>0</th>\n",
              "      <td>Male</td>\n",
              "      <td>19</td>\n",
              "      <td>15</td>\n",
              "      <td>39</td>\n",
              "    </tr>\n",
              "    <tr>\n",
              "      <th>1</th>\n",
              "      <td>Male</td>\n",
              "      <td>21</td>\n",
              "      <td>15</td>\n",
              "      <td>81</td>\n",
              "    </tr>\n",
              "    <tr>\n",
              "      <th>2</th>\n",
              "      <td>Female</td>\n",
              "      <td>20</td>\n",
              "      <td>16</td>\n",
              "      <td>6</td>\n",
              "    </tr>\n",
              "    <tr>\n",
              "      <th>3</th>\n",
              "      <td>Female</td>\n",
              "      <td>23</td>\n",
              "      <td>16</td>\n",
              "      <td>77</td>\n",
              "    </tr>\n",
              "    <tr>\n",
              "      <th>4</th>\n",
              "      <td>Female</td>\n",
              "      <td>31</td>\n",
              "      <td>17</td>\n",
              "      <td>40</td>\n",
              "    </tr>\n",
              "  </tbody>\n",
              "</table>\n",
              "</div>\n",
              "      <button class=\"colab-df-convert\" onclick=\"convertToInteractive('df-a1cb2e68-2c9f-4a3c-803e-5a863e591af4')\"\n",
              "              title=\"Convert this dataframe to an interactive table.\"\n",
              "              style=\"display:none;\">\n",
              "        \n",
              "  <svg xmlns=\"http://www.w3.org/2000/svg\" height=\"24px\"viewBox=\"0 0 24 24\"\n",
              "       width=\"24px\">\n",
              "    <path d=\"M0 0h24v24H0V0z\" fill=\"none\"/>\n",
              "    <path d=\"M18.56 5.44l.94 2.06.94-2.06 2.06-.94-2.06-.94-.94-2.06-.94 2.06-2.06.94zm-11 1L8.5 8.5l.94-2.06 2.06-.94-2.06-.94L8.5 2.5l-.94 2.06-2.06.94zm10 10l.94 2.06.94-2.06 2.06-.94-2.06-.94-.94-2.06-.94 2.06-2.06.94z\"/><path d=\"M17.41 7.96l-1.37-1.37c-.4-.4-.92-.59-1.43-.59-.52 0-1.04.2-1.43.59L10.3 9.45l-7.72 7.72c-.78.78-.78 2.05 0 2.83L4 21.41c.39.39.9.59 1.41.59.51 0 1.02-.2 1.41-.59l7.78-7.78 2.81-2.81c.8-.78.8-2.07 0-2.86zM5.41 20L4 18.59l7.72-7.72 1.47 1.35L5.41 20z\"/>\n",
              "  </svg>\n",
              "      </button>\n",
              "      \n",
              "  <style>\n",
              "    .colab-df-container {\n",
              "      display:flex;\n",
              "      flex-wrap:wrap;\n",
              "      gap: 12px;\n",
              "    }\n",
              "\n",
              "    .colab-df-convert {\n",
              "      background-color: #E8F0FE;\n",
              "      border: none;\n",
              "      border-radius: 50%;\n",
              "      cursor: pointer;\n",
              "      display: none;\n",
              "      fill: #1967D2;\n",
              "      height: 32px;\n",
              "      padding: 0 0 0 0;\n",
              "      width: 32px;\n",
              "    }\n",
              "\n",
              "    .colab-df-convert:hover {\n",
              "      background-color: #E2EBFA;\n",
              "      box-shadow: 0px 1px 2px rgba(60, 64, 67, 0.3), 0px 1px 3px 1px rgba(60, 64, 67, 0.15);\n",
              "      fill: #174EA6;\n",
              "    }\n",
              "\n",
              "    [theme=dark] .colab-df-convert {\n",
              "      background-color: #3B4455;\n",
              "      fill: #D2E3FC;\n",
              "    }\n",
              "\n",
              "    [theme=dark] .colab-df-convert:hover {\n",
              "      background-color: #434B5C;\n",
              "      box-shadow: 0px 1px 3px 1px rgba(0, 0, 0, 0.15);\n",
              "      filter: drop-shadow(0px 1px 2px rgba(0, 0, 0, 0.3));\n",
              "      fill: #FFFFFF;\n",
              "    }\n",
              "  </style>\n",
              "\n",
              "      <script>\n",
              "        const buttonEl =\n",
              "          document.querySelector('#df-a1cb2e68-2c9f-4a3c-803e-5a863e591af4 button.colab-df-convert');\n",
              "        buttonEl.style.display =\n",
              "          google.colab.kernel.accessAllowed ? 'block' : 'none';\n",
              "\n",
              "        async function convertToInteractive(key) {\n",
              "          const element = document.querySelector('#df-a1cb2e68-2c9f-4a3c-803e-5a863e591af4');\n",
              "          const dataTable =\n",
              "            await google.colab.kernel.invokeFunction('convertToInteractive',\n",
              "                                                     [key], {});\n",
              "          if (!dataTable) return;\n",
              "\n",
              "          const docLinkHtml = 'Like what you see? Visit the ' +\n",
              "            '<a target=\"_blank\" href=https://colab.research.google.com/notebooks/data_table.ipynb>data table notebook</a>'\n",
              "            + ' to learn more about interactive tables.';\n",
              "          element.innerHTML = '';\n",
              "          dataTable['output_type'] = 'display_data';\n",
              "          await google.colab.output.renderOutput(dataTable, element);\n",
              "          const docLink = document.createElement('div');\n",
              "          docLink.innerHTML = docLinkHtml;\n",
              "          element.appendChild(docLink);\n",
              "        }\n",
              "      </script>\n",
              "    </div>\n",
              "  </div>\n",
              "  "
            ],
            "text/plain": [
              "   Gender  Age  Annual Income (k$)  Spending Score (1-100)\n",
              "0    Male   19                  15                      39\n",
              "1    Male   21                  15                      81\n",
              "2  Female   20                  16                       6\n",
              "3  Female   23                  16                      77\n",
              "4  Female   31                  17                      40"
            ]
          },
          "metadata": {},
          "execution_count": 34
        }
      ]
    },
    {
      "cell_type": "code",
      "source": [
        "df_new.isnull().sum()"
      ],
      "metadata": {
        "colab": {
          "base_uri": "https://localhost:8080/"
        },
        "id": "5_P_HbRzK94v",
        "outputId": "16073c44-8a97-4f78-ce94-2cc3afc87b17"
      },
      "execution_count": null,
      "outputs": [
        {
          "output_type": "execute_result",
          "data": {
            "text/plain": [
              "Gender                    0\n",
              "Age                       0\n",
              "Annual Income (k$)        0\n",
              "Spending Score (1-100)    0\n",
              "dtype: int64"
            ]
          },
          "metadata": {},
          "execution_count": 35
        }
      ]
    },
    {
      "cell_type": "code",
      "source": [
        "df_new.hist(figsize=(10,10))\n",
        "plt.show()"
      ],
      "metadata": {
        "colab": {
          "base_uri": "https://localhost:8080/",
          "height": 608
        },
        "id": "M6x_onoJK_tP",
        "outputId": "31aae14d-fa69-4123-dff9-c22a31549113"
      },
      "execution_count": null,
      "outputs": [
        {
          "output_type": "display_data",
          "data": {
            "image/png": "[encoded data removed]",
            "text/plain": [
              "<Figure size 720x720 with 4 Axes>"
            ]
          },
          "metadata": {
            "needs_background": "light"
          }
        }
      ]
    },
    {
      "cell_type": "markdown",
      "source": [
        "# Scaling"
      ],
      "metadata": {
        "id": "F4kWtv4sdE37"
      }
    },
    {
      "cell_type": "code",
      "source": [
        "encoder = LabelEncoder()\n",
        "df_new['Gender'] = encoder.fit_transform(df_new['Gender'])\n",
        "\n",
        "gender_mappings = {index: label for index, label in enumerate(encoder.classes_)}\n",
        "gender_mappings"
      ],
      "metadata": {
        "colab": {
          "base_uri": "https://localhost:8080/"
        },
        "id": "YRn8FJkiPSib",
        "outputId": "49ccd4a5-ace1-4a1d-d7c7-b425d66d9e54"
      },
      "execution_count": null,
      "outputs": [
        {
          "output_type": "execute_result",
          "data": {
            "text/plain": [
              "{0: 'Female', 1: 'Male'}"
            ]
          },
          "metadata": {},
          "execution_count": 37
        }
      ]
    },
    {
      "cell_type": "code",
      "source": [
        "#from sklearn.preprocessing import StandardScaler\n",
        "from sklearn.preprocessing import MinMaxScaler\n",
        "\n",
        "X = df_new.astype(float).values\n",
        "scaler = MinMaxScaler().fit(X)\n",
        "X_new= scaler.transform(X)\n",
        "X_new"
      ],
      "metadata": {
        "colab": {
          "base_uri": "https://localhost:8080/"
        },
        "id": "19oTqfqmPYjW",
        "outputId": "608b826e-bbfe-43de-cd39-1ac8cdeacf58"
      },
      "execution_count": null,
      "outputs": [
        {
          "output_type": "execute_result",
          "data": {
            "text/plain": [
              "array([[1.        , 0.01923077, 0.        , 0.3877551 ],\n",
              "       [1.        , 0.05769231, 0.        , 0.81632653],\n",
              "       [0.        , 0.03846154, 0.00819672, 0.05102041],\n",
              "       [0.        , 0.09615385, 0.00819672, 0.7755102 ],\n",
              "       [0.        , 0.25      , 0.01639344, 0.39795918],\n",
              "       [0.        , 0.07692308, 0.01639344, 0.76530612],\n",
              "       [0.        , 0.32692308, 0.02459016, 0.05102041],\n",
              "       [0.        , 0.09615385, 0.02459016, 0.94897959],\n",
              "       [1.        , 0.88461538, 0.03278689, 0.02040816],\n",
              "       [0.        , 0.23076923, 0.03278689, 0.7244898 ],\n",
              "       [1.        , 0.94230769, 0.03278689, 0.13265306],\n",
              "       [0.        , 0.32692308, 0.03278689, 1.        ],\n",
              "       [0.        , 0.76923077, 0.04098361, 0.14285714],\n",
              "       [0.        , 0.11538462, 0.04098361, 0.7755102 ],\n",
              "       [1.        , 0.36538462, 0.04098361, 0.12244898],\n",
              "       [1.        , 0.07692308, 0.04098361, 0.79591837],\n",
              "       [0.        , 0.32692308, 0.04918033, 0.34693878],\n",
              "       [1.        , 0.03846154, 0.04918033, 0.66326531],\n",
              "       [1.        , 0.65384615, 0.06557377, 0.28571429],\n",
              "       [0.        , 0.32692308, 0.06557377, 0.98979592],\n",
              "       [1.        , 0.32692308, 0.07377049, 0.34693878],\n",
              "       [1.        , 0.13461538, 0.07377049, 0.73469388],\n",
              "       [0.        , 0.53846154, 0.08196721, 0.04081633],\n",
              "       [1.        , 0.25      , 0.08196721, 0.73469388],\n",
              "       [0.        , 0.69230769, 0.10655738, 0.13265306],\n",
              "       [1.        , 0.21153846, 0.10655738, 0.82653061],\n",
              "       [0.        , 0.51923077, 0.10655738, 0.31632653],\n",
              "       [1.        , 0.32692308, 0.10655738, 0.6122449 ],\n",
              "       [0.        , 0.42307692, 0.1147541 , 0.30612245],\n",
              "       [0.        , 0.09615385, 0.1147541 , 0.87755102],\n",
              "       [1.        , 0.80769231, 0.12295082, 0.03061224],\n",
              "       [0.        , 0.05769231, 0.12295082, 0.73469388],\n",
              "       [1.        , 0.67307692, 0.14754098, 0.03061224],\n",
              "       [1.        , 0.        , 0.14754098, 0.92857143],\n",
              "       [0.        , 0.59615385, 0.14754098, 0.13265306],\n",
              "       [0.        , 0.05769231, 0.14754098, 0.81632653],\n",
              "       [0.        , 0.46153846, 0.1557377 , 0.16326531],\n",
              "       [0.        , 0.23076923, 0.1557377 , 0.73469388],\n",
              "       [0.        , 0.34615385, 0.18032787, 0.25510204],\n",
              "       [0.        , 0.03846154, 0.18032787, 0.75510204],\n",
              "       [0.        , 0.90384615, 0.18852459, 0.34693878],\n",
              "       [1.        , 0.11538462, 0.18852459, 0.92857143],\n",
              "       [1.        , 0.57692308, 0.19672131, 0.35714286],\n",
              "       [0.        , 0.25      , 0.19672131, 0.6122449 ],\n",
              "       [0.        , 0.59615385, 0.19672131, 0.2755102 ],\n",
              "       [0.        , 0.11538462, 0.19672131, 0.65306122],\n",
              "       [0.        , 0.61538462, 0.20491803, 0.55102041],\n",
              "       [0.        , 0.17307692, 0.20491803, 0.46938776],\n",
              "       [0.        , 0.21153846, 0.20491803, 0.41836735],\n",
              "       [0.        , 0.25      , 0.20491803, 0.41836735],\n",
              "       [0.        , 0.59615385, 0.22131148, 0.52040816],\n",
              "       [1.        , 0.28846154, 0.22131148, 0.60204082],\n",
              "       [0.        , 0.25      , 0.2295082 , 0.54081633],\n",
              "       [1.        , 0.78846154, 0.2295082 , 0.60204082],\n",
              "       [0.        , 0.61538462, 0.2295082 , 0.44897959],\n",
              "       [1.        , 0.55769231, 0.2295082 , 0.40816327],\n",
              "       [0.        , 0.63461538, 0.23770492, 0.5       ],\n",
              "       [1.        , 0.98076923, 0.23770492, 0.45918367],\n",
              "       [0.        , 0.17307692, 0.25409836, 0.51020408],\n",
              "       [1.        , 0.67307692, 0.25409836, 0.45918367],\n",
              "       [1.        , 1.        , 0.25409836, 0.56122449],\n",
              "       [1.        , 0.01923077, 0.25409836, 0.55102041],\n",
              "       [0.        , 0.94230769, 0.26229508, 0.52040816],\n",
              "       [0.        , 0.69230769, 0.26229508, 0.59183673],\n",
              "       [1.        , 0.86538462, 0.2704918 , 0.51020408],\n",
              "       [1.        , 0.        , 0.2704918 , 0.59183673],\n",
              "       [0.        , 0.48076923, 0.2704918 , 0.5       ],\n",
              "       [0.        , 0.96153846, 0.2704918 , 0.47959184],\n",
              "       [1.        , 0.01923077, 0.2704918 , 0.59183673],\n",
              "       [0.        , 0.26923077, 0.2704918 , 0.46938776],\n",
              "       [1.        , 1.        , 0.27868852, 0.55102041],\n",
              "       [0.        , 0.55769231, 0.27868852, 0.41836735],\n",
              "       [0.        , 0.80769231, 0.28688525, 0.48979592],\n",
              "       [0.        , 0.80769231, 0.28688525, 0.56122449],\n",
              "       [1.        , 0.78846154, 0.31967213, 0.46938776],\n",
              "       [1.        , 0.15384615, 0.31967213, 0.54081633],\n",
              "       [0.        , 0.51923077, 0.31967213, 0.53061224],\n",
              "       [1.        , 0.42307692, 0.31967213, 0.47959184],\n",
              "       [0.        , 0.09615385, 0.31967213, 0.52040816],\n",
              "       [0.        , 0.59615385, 0.31967213, 0.41836735],\n",
              "       [1.        , 0.75      , 0.31967213, 0.51020408],\n",
              "       [1.        , 0.38461538, 0.31967213, 0.55102041],\n",
              "       [1.        , 0.94230769, 0.31967213, 0.40816327],\n",
              "       [0.        , 0.53846154, 0.31967213, 0.43877551],\n",
              "       [0.        , 0.05769231, 0.31967213, 0.57142857],\n",
              "       [1.        , 0.57692308, 0.31967213, 0.45918367],\n",
              "       [0.        , 0.71153846, 0.3442623 , 0.58163265],\n",
              "       [0.        , 0.07692308, 0.3442623 , 0.55102041],\n",
              "       [0.        , 0.30769231, 0.35245902, 0.60204082],\n",
              "       [0.        , 0.61538462, 0.35245902, 0.45918367],\n",
              "       [0.        , 0.96153846, 0.36065574, 0.55102041],\n",
              "       [1.        , 0.        , 0.36065574, 0.40816327],\n",
              "       [1.        , 0.57692308, 0.36885246, 0.48979592],\n",
              "       [0.        , 0.42307692, 0.36885246, 0.39795918],\n",
              "       [0.        , 0.26923077, 0.36885246, 0.41836735],\n",
              "       [1.        , 0.11538462, 0.36885246, 0.52040816],\n",
              "       [0.        , 0.55769231, 0.36885246, 0.46938776],\n",
              "       [0.        , 0.17307692, 0.36885246, 0.5       ],\n",
              "       [1.        , 0.57692308, 0.37704918, 0.41836735],\n",
              "       [1.        , 0.03846154, 0.37704918, 0.48979592],\n",
              "       [0.        , 0.09615385, 0.3852459 , 0.40816327],\n",
              "       [0.        , 0.59615385, 0.3852459 , 0.47959184],\n",
              "       [1.        , 0.94230769, 0.3852459 , 0.59183673],\n",
              "       [1.        , 0.15384615, 0.3852459 , 0.55102041],\n",
              "       [1.        , 0.59615385, 0.3852459 , 0.56122449],\n",
              "       [0.        , 0.05769231, 0.3852459 , 0.41836735],\n",
              "       [0.        , 0.92307692, 0.39344262, 0.5       ],\n",
              "       [1.        , 0.69230769, 0.39344262, 0.45918367],\n",
              "       [1.        , 0.96153846, 0.39344262, 0.42857143],\n",
              "       [1.        , 0.92307692, 0.39344262, 0.47959184],\n",
              "       [1.        , 0.90384615, 0.39344262, 0.52040816],\n",
              "       [0.        , 0.01923077, 0.39344262, 0.54081633],\n",
              "       [0.        , 0.38461538, 0.40163934, 0.41836735],\n",
              "       [1.        , 0.01923077, 0.40163934, 0.45918367],\n",
              "       [0.        , 0.        , 0.40983607, 0.47959184],\n",
              "       [0.        , 0.01923077, 0.40983607, 0.5       ],\n",
              "       [0.        , 0.86538462, 0.40983607, 0.42857143],\n",
              "       [0.        , 0.59615385, 0.40983607, 0.59183673],\n",
              "       [0.        , 0.63461538, 0.42622951, 0.42857143],\n",
              "       [0.        , 0.61538462, 0.42622951, 0.57142857],\n",
              "       [1.        , 0.17307692, 0.42622951, 0.56122449],\n",
              "       [0.        , 0.38461538, 0.42622951, 0.39795918],\n",
              "       [0.        , 0.42307692, 0.44262295, 0.58163265],\n",
              "       [1.        , 0.40384615, 0.44262295, 0.91836735],\n",
              "       [0.        , 0.09615385, 0.45081967, 0.28571429],\n",
              "       [0.        , 0.25      , 0.45081967, 0.7755102 ],\n",
              "       [1.        , 0.48076923, 0.45901639, 0.34693878],\n",
              "       [1.        , 0.42307692, 0.45901639, 0.95918367],\n",
              "       [1.        , 0.78846154, 0.45901639, 0.10204082],\n",
              "       [1.        , 0.38461538, 0.45901639, 0.75510204],\n",
              "       [1.        , 0.55769231, 0.45901639, 0.08163265],\n",
              "       [1.        , 0.40384615, 0.45901639, 0.75510204],\n",
              "       [0.        , 0.13461538, 0.46721311, 0.33673469],\n",
              "       [0.        , 0.25      , 0.46721311, 0.71428571],\n",
              "       [1.        , 0.03846154, 0.47540984, 0.04081633],\n",
              "       [0.        , 0.21153846, 0.47540984, 0.8877551 ],\n",
              "       [0.        , 0.5       , 0.47540984, 0.06122449],\n",
              "       [1.        , 0.26923077, 0.47540984, 0.73469388],\n",
              "       [1.        , 0.01923077, 0.48360656, 0.09183673],\n",
              "       [0.        , 0.32692308, 0.48360656, 0.7244898 ],\n",
              "       [0.        , 0.75      , 0.49180328, 0.04081633],\n",
              "       [1.        , 0.26923077, 0.49180328, 0.93877551],\n",
              "       [0.        , 0.19230769, 0.5       , 0.39795918],\n",
              "       [0.        , 0.26923077, 0.5       , 0.87755102],\n",
              "       [1.        , 0.13461538, 0.50819672, 0.1122449 ],\n",
              "       [1.        , 0.19230769, 0.50819672, 0.97959184],\n",
              "       [1.        , 0.57692308, 0.50819672, 0.35714286],\n",
              "       [0.        , 0.26923077, 0.50819672, 0.74489796],\n",
              "       [0.        , 0.30769231, 0.51639344, 0.21428571],\n",
              "       [1.        , 0.30769231, 0.51639344, 0.90816327],\n",
              "       [1.        , 0.48076923, 0.51639344, 0.16326531],\n",
              "       [1.        , 0.40384615, 0.51639344, 0.8877551 ],\n",
              "       [0.        , 0.5       , 0.51639344, 0.19387755],\n",
              "       [0.        , 0.38461538, 0.51639344, 0.76530612],\n",
              "       [0.        , 0.55769231, 0.51639344, 0.15306122],\n",
              "       [0.        , 0.17307692, 0.51639344, 0.89795918],\n",
              "       [1.        , 0.36538462, 0.51639344, 0.        ],\n",
              "       [0.        , 0.23076923, 0.51639344, 0.78571429],\n",
              "       [1.        , 0.30769231, 0.51639344, 0.        ],\n",
              "       [0.        , 0.23076923, 0.51639344, 0.73469388],\n",
              "       [0.        , 0.73076923, 0.52459016, 0.34693878],\n",
              "       [0.        , 0.21153846, 0.52459016, 0.83673469],\n",
              "       [1.        , 0.01923077, 0.54098361, 0.04081633],\n",
              "       [0.        , 0.25      , 0.54098361, 0.93877551],\n",
              "       [1.        , 0.61538462, 0.57377049, 0.25510204],\n",
              "       [0.        , 0.34615385, 0.57377049, 0.75510204],\n",
              "       [1.        , 0.46153846, 0.58196721, 0.19387755],\n",
              "       [0.        , 0.28846154, 0.58196721, 0.95918367],\n",
              "       [0.        , 0.34615385, 0.59016393, 0.26530612],\n",
              "       [1.        , 0.26923077, 0.59016393, 0.63265306],\n",
              "       [1.        , 0.42307692, 0.59016393, 0.12244898],\n",
              "       [1.        , 0.19230769, 0.59016393, 0.75510204],\n",
              "       [1.        , 0.34615385, 0.59016393, 0.09183673],\n",
              "       [1.        , 0.34615385, 0.59016393, 0.92857143],\n",
              "       [0.        , 0.65384615, 0.59836066, 0.12244898],\n",
              "       [0.        , 0.23076923, 0.59836066, 0.86734694],\n",
              "       [1.        , 0.76923077, 0.59836066, 0.14285714],\n",
              "       [1.        , 0.17307692, 0.59836066, 0.69387755],\n",
              "       [1.        , 0.78846154, 0.63934426, 0.13265306],\n",
              "       [1.        , 0.32692308, 0.63934426, 0.90816327],\n",
              "       [0.        , 0.36538462, 0.67213115, 0.31632653],\n",
              "       [0.        , 0.26923077, 0.67213115, 0.86734694],\n",
              "       [1.        , 0.53846154, 0.68032787, 0.14285714],\n",
              "       [0.        , 0.21153846, 0.68032787, 0.8877551 ],\n",
              "       [0.        , 0.44230769, 0.68852459, 0.3877551 ],\n",
              "       [1.        , 0.23076923, 0.68852459, 0.97959184],\n",
              "       [0.        , 0.69230769, 0.70491803, 0.23469388],\n",
              "       [1.        , 0.19230769, 0.70491803, 0.68367347],\n",
              "       [0.        , 0.44230769, 0.72131148, 0.16326531],\n",
              "       [0.        , 0.34615385, 0.72131148, 0.85714286],\n",
              "       [0.        , 0.30769231, 0.72131148, 0.2244898 ],\n",
              "       [0.        , 0.26923077, 0.72131148, 0.69387755],\n",
              "       [1.        , 0.28846154, 0.80327869, 0.07142857],\n",
              "       [0.        , 0.38461538, 0.80327869, 0.91836735],\n",
              "       [0.        , 0.55769231, 0.86065574, 0.15306122],\n",
              "       [0.        , 0.32692308, 0.86065574, 0.79591837],\n",
              "       [0.        , 0.51923077, 0.90983607, 0.2755102 ],\n",
              "       [1.        , 0.26923077, 0.90983607, 0.74489796],\n",
              "       [1.        , 0.26923077, 1.        , 0.17346939],\n",
              "       [1.        , 0.23076923, 1.        , 0.83673469]])"
            ]
          },
          "metadata": {},
          "execution_count": 38
        }
      ]
    },
    {
      "cell_type": "code",
      "source": [
        "X_new.shape"
      ],
      "metadata": {
        "colab": {
          "base_uri": "https://localhost:8080/"
        },
        "id": "NX0Kc8YhPst3",
        "outputId": "83fd4765-9263-4c7a-f4cc-7213a1118b15"
      },
      "execution_count": null,
      "outputs": [
        {
          "output_type": "execute_result",
          "data": {
            "text/plain": [
              "(200, 4)"
            ]
          },
          "metadata": {},
          "execution_count": 39
        }
      ]
    },
    {
      "cell_type": "markdown",
      "source": [
        "# DBSCAN"
      ],
      "metadata": {
        "id": "MKpSaVfWl1p_"
      }
    },
    {
      "cell_type": "markdown",
      "source": [
        "### Sorted K-Distance Graph\n",
        "Mencari Nilai Epsilon"
      ],
      "metadata": {
        "id": "R3JDcYwXw-X4"
      }
    },
    {
      "cell_type": "code",
      "source": [
        "from sklearn.cluster import DBSCAN"
      ],
      "metadata": {
        "id": "KYImfaCYlzEN"
      },
      "execution_count": null,
      "outputs": []
    },
    {
      "cell_type": "code",
      "source": [
        "from sklearn.neighbors import NearestNeighbors\n",
        "\n",
        "neighbors = NearestNeighbors(n_neighbors=8)\n",
        "neighbors_fit = neighbors.fit(X_new)\n",
        "distances, indices = neighbors_fit.kneighbors(X_new)\n",
        "\n",
        "distances = np.sort(distances, axis=0)\n",
        "distances = distances[:,1]\n",
        "plt.plot(distances)\n",
        "plt.title('K-distance Graph',fontsize=20)\n",
        "plt.xlabel('Data Points sorted by distance',fontsize=14)\n",
        "plt.ylabel('Epsilon',fontsize=14)\n",
        "plt.show()\n",
        "# nilai eps mendekati 0.3"
      ],
      "metadata": {
        "colab": {
          "base_uri": "https://localhost:8080/",
          "height": 304
        },
        "id": "Iyxo9Pu9mFVN",
        "outputId": "72a12e5d-26c4-42c0-b4d3-a0e0328b6163"
      },
      "execution_count": null,
      "outputs": [
        {
          "output_type": "display_data",
          "data": {
            "image/png": "[encoded data removed]",
            "text/plain": [
              "<Figure size 432x288 with 1 Axes>"
            ]
          },
          "metadata": {
            "needs_background": "light"
          }
        }
      ]
    },
    {
      "cell_type": "markdown",
      "source": [
        "### DBSCAN"
      ],
      "metadata": {
        "id": "K2p19Dw1xRsd"
      }
    },
    {
      "cell_type": "code",
      "source": [
        "db = DBSCAN(eps=0.3, min_samples=8)\n",
        "db.fit(X_new)\n",
        "labels = db.labels_\n",
        "df_new['cluster_labels'] = labels\n",
        "df_new.tail()"
      ],
      "metadata": {
        "colab": {
          "base_uri": "https://localhost:8080/",
          "height": 206
        },
        "id": "DKWlhuuumeBj",
        "outputId": "002f2ccd-22d6-46ee-acee-7e28c05359c2"
      },
      "execution_count": null,
      "outputs": [
        {
          "output_type": "execute_result",
          "data": {
            "text/html": [
              "\n",
              "  <div id=\"df-3f29c7f4-1985-44e6-9ada-5277632d1362\">\n",
              "    <div class=\"colab-df-container\">\n",
              "      <div>\n",
              "<style scoped>\n",
              "    .dataframe tbody tr th:only-of-type {\n",
              "        vertical-align: middle;\n",
              "    }\n",
              "\n",
              "    .dataframe tbody tr th {\n",
              "        vertical-align: top;\n",
              "    }\n",
              "\n",
              "    .dataframe thead th {\n",
              "        text-align: right;\n",
              "    }\n",
              "</style>\n",
              "<table border=\"1\" class=\"dataframe\">\n",
              "  <thead>\n",
              "    <tr style=\"text-align: right;\">\n",
              "      <th></th>\n",
              "      <th>Gender</th>\n",
              "      <th>Age</th>\n",
              "      <th>Annual Income (k$)</th>\n",
              "      <th>Spending Score (1-100)</th>\n",
              "      <th>cluster_labels</th>\n",
              "    </tr>\n",
              "  </thead>\n",
              "  <tbody>\n",
              "    <tr>\n",
              "      <th>195</th>\n",
              "      <td>0</td>\n",
              "      <td>35</td>\n",
              "      <td>120</td>\n",
              "      <td>79</td>\n",
              "      <td>1</td>\n",
              "    </tr>\n",
              "    <tr>\n",
              "      <th>196</th>\n",
              "      <td>0</td>\n",
              "      <td>45</td>\n",
              "      <td>126</td>\n",
              "      <td>28</td>\n",
              "      <td>1</td>\n",
              "    </tr>\n",
              "    <tr>\n",
              "      <th>197</th>\n",
              "      <td>1</td>\n",
              "      <td>32</td>\n",
              "      <td>126</td>\n",
              "      <td>74</td>\n",
              "      <td>0</td>\n",
              "    </tr>\n",
              "    <tr>\n",
              "      <th>198</th>\n",
              "      <td>1</td>\n",
              "      <td>32</td>\n",
              "      <td>137</td>\n",
              "      <td>18</td>\n",
              "      <td>-1</td>\n",
              "    </tr>\n",
              "    <tr>\n",
              "      <th>199</th>\n",
              "      <td>1</td>\n",
              "      <td>30</td>\n",
              "      <td>137</td>\n",
              "      <td>83</td>\n",
              "      <td>-1</td>\n",
              "    </tr>\n",
              "  </tbody>\n",
              "</table>\n",
              "</div>\n",
              "      <button class=\"colab-df-convert\" onclick=\"convertToInteractive('df-3f29c7f4-1985-44e6-9ada-5277632d1362')\"\n",
              "              title=\"Convert this dataframe to an interactive table.\"\n",
              "              style=\"display:none;\">\n",
              "        \n",
              "  <svg xmlns=\"http://www.w3.org/2000/svg\" height=\"24px\"viewBox=\"0 0 24 24\"\n",
              "       width=\"24px\">\n",
              "    <path d=\"M0 0h24v24H0V0z\" fill=\"none\"/>\n",
              "    <path d=\"M18.56 5.44l.94 2.06.94-2.06 2.06-.94-2.06-.94-.94-2.06-.94 2.06-2.06.94zm-11 1L8.5 8.5l.94-2.06 2.06-.94-2.06-.94L8.5 2.5l-.94 2.06-2.06.94zm10 10l.94 2.06.94-2.06 2.06-.94-2.06-.94-.94-2.06-.94 2.06-2.06.94z\"/><path d=\"M17.41 7.96l-1.37-1.37c-.4-.4-.92-.59-1.43-.59-.52 0-1.04.2-1.43.59L10.3 9.45l-7.72 7.72c-.78.78-.78 2.05 0 2.83L4 21.41c.39.39.9.59 1.41.59.51 0 1.02-.2 1.41-.59l7.78-7.78 2.81-2.81c.8-.78.8-2.07 0-2.86zM5.41 20L4 18.59l7.72-7.72 1.47 1.35L5.41 20z\"/>\n",
              "  </svg>\n",
              "      </button>\n",
              "      \n",
              "  <style>\n",
              "    .colab-df-container {\n",
              "      display:flex;\n",
              "      flex-wrap:wrap;\n",
              "      gap: 12px;\n",
              "    }\n",
              "\n",
              "    .colab-df-convert {\n",
              "      background-color: #E8F0FE;\n",
              "      border: none;\n",
              "      border-radius: 50%;\n",
              "      cursor: pointer;\n",
              "      display: none;\n",
              "      fill: #1967D2;\n",
              "      height: 32px;\n",
              "      padding: 0 0 0 0;\n",
              "      width: 32px;\n",
              "    }\n",
              "\n",
              "    .colab-df-convert:hover {\n",
              "      background-color: #E2EBFA;\n",
              "      box-shadow: 0px 1px 2px rgba(60, 64, 67, 0.3), 0px 1px 3px 1px rgba(60, 64, 67, 0.15);\n",
              "      fill: #174EA6;\n",
              "    }\n",
              "\n",
              "    [theme=dark] .colab-df-convert {\n",
              "      background-color: #3B4455;\n",
              "      fill: #D2E3FC;\n",
              "    }\n",
              "\n",
              "    [theme=dark] .colab-df-convert:hover {\n",
              "      background-color: #434B5C;\n",
              "      box-shadow: 0px 1px 3px 1px rgba(0, 0, 0, 0.15);\n",
              "      filter: drop-shadow(0px 1px 2px rgba(0, 0, 0, 0.3));\n",
              "      fill: #FFFFFF;\n",
              "    }\n",
              "  </style>\n",
              "\n",
              "      <script>\n",
              "        const buttonEl =\n",
              "          document.querySelector('#df-3f29c7f4-1985-44e6-9ada-5277632d1362 button.colab-df-convert');\n",
              "        buttonEl.style.display =\n",
              "          google.colab.kernel.accessAllowed ? 'block' : 'none';\n",
              "\n",
              "        async function convertToInteractive(key) {\n",
              "          const element = document.querySelector('#df-3f29c7f4-1985-44e6-9ada-5277632d1362');\n",
              "          const dataTable =\n",
              "            await google.colab.kernel.invokeFunction('convertToInteractive',\n",
              "                                                     [key], {});\n",
              "          if (!dataTable) return;\n",
              "\n",
              "          const docLinkHtml = 'Like what you see? Visit the ' +\n",
              "            '<a target=\"_blank\" href=https://colab.research.google.com/notebooks/data_table.ipynb>data table notebook</a>'\n",
              "            + ' to learn more about interactive tables.';\n",
              "          element.innerHTML = '';\n",
              "          dataTable['output_type'] = 'display_data';\n",
              "          await google.colab.output.renderOutput(dataTable, element);\n",
              "          const docLink = document.createElement('div');\n",
              "          docLink.innerHTML = docLinkHtml;\n",
              "          element.appendChild(docLink);\n",
              "        }\n",
              "      </script>\n",
              "    </div>\n",
              "  </div>\n",
              "  "
            ],
            "text/plain": [
              "     Gender  Age  Annual Income (k$)  Spending Score (1-100)  cluster_labels\n",
              "195       0   35                 120                      79               1\n",
              "196       0   45                 126                      28               1\n",
              "197       1   32                 126                      74               0\n",
              "198       1   32                 137                      18              -1\n",
              "199       1   30                 137                      83              -1"
            ]
          },
          "metadata": {},
          "execution_count": 42
        }
      ]
    },
    {
      "cell_type": "code",
      "source": [
        "print('Cluster : ', np.unique(labels))\n",
        "\n",
        "no_clusters = len(np.unique(labels))\n",
        "no_noise = np.sum(np.array(labels) == -1, axis=0)\n",
        "for i in range(-1, no_clusters-1):\n",
        "  print('Cluster ', i, ' total member ', np.sum(np.array(labels) == i))\n",
        "\n",
        "print('Estimated no. of clusters: %d' % no_clusters)\n",
        "print('Estimated no. of noise points: %d' % no_noise)"
      ],
      "metadata": {
        "colab": {
          "base_uri": "https://localhost:8080/"
        },
        "id": "pBP2orGxmzOz",
        "outputId": "7d6bbf3a-0868-4824-baa4-03a54a3f1787"
      },
      "execution_count": null,
      "outputs": [
        {
          "output_type": "stream",
          "name": "stdout",
          "text": [
            "Cluster :  [-1  0  1]\n",
            "Cluster  -1  total member  9\n",
            "Cluster  0  total member  80\n",
            "Cluster  1  total member  111\n",
            "Estimated no. of clusters: 3\n",
            "Estimated no. of noise points: 9\n"
          ]
        }
      ]
    },
    {
      "cell_type": "markdown",
      "source": [
        "# Remove Outlier"
      ],
      "metadata": {
        "id": "UhqMURVMKSq-"
      }
    },
    {
      "cell_type": "code",
      "source": [
        "df_clean = df_new[df_new.cluster_labels\t != -1]"
      ],
      "metadata": {
        "id": "jQ2uecwKKVcK"
      },
      "execution_count": null,
      "outputs": []
    },
    {
      "cell_type": "code",
      "source": [
        "df_new.shape"
      ],
      "metadata": {
        "colab": {
          "base_uri": "https://localhost:8080/"
        },
        "id": "Xkj3XTp3VpEl",
        "outputId": "02685ace-d6e4-4ae9-b317-4891719203cb"
      },
      "execution_count": null,
      "outputs": [
        {
          "output_type": "execute_result",
          "data": {
            "text/plain": [
              "(200, 5)"
            ]
          },
          "metadata": {},
          "execution_count": 45
        }
      ]
    },
    {
      "cell_type": "code",
      "source": [
        "df_clean.shape"
      ],
      "metadata": {
        "colab": {
          "base_uri": "https://localhost:8080/"
        },
        "id": "HKMDhFxNVwa9",
        "outputId": "4a2fd4d3-7860-4679-fe91-f3891cd6aed8"
      },
      "execution_count": null,
      "outputs": [
        {
          "output_type": "execute_result",
          "data": {
            "text/plain": [
              "(191, 5)"
            ]
          },
          "metadata": {},
          "execution_count": 46
        }
      ]
    },
    {
      "cell_type": "markdown",
      "source": [
        "# Visualization"
      ],
      "metadata": {
        "id": "fOx99wqSVzG4"
      }
    },
    {
      "cell_type": "code",
      "source": [
        "import seaborn as sns\n",
        "\n",
        "plt.figure(figsize=(8,6))\n",
        "x_val = 'Annual Income (k$)'\n",
        "y_val = 'Spending Score (1-100)'\n",
        "sns.scatterplot(x=x_val, y=y_val, hue='cluster_labels', data=df_clean, palette='Paired')\n",
        "\n",
        "plt.legend(loc='lower right')\n",
        "plt.show()"
      ],
      "metadata": {
        "colab": {
          "base_uri": "https://localhost:8080/",
          "height": 388
        },
        "id": "dSpdVIdnVxtV",
        "outputId": "142ea63a-77e0-4dee-a460-34e8f2cca3e2"
      },
      "execution_count": null,
      "outputs": [
        {
          "output_type": "display_data",
          "data": {
            "image/png": "[encoded data removed]",
            "text/plain": [
              "<Figure size 576x432 with 1 Axes>"
            ]
          },
          "metadata": {
            "needs_background": "light"
          }
        }
      ]
    },
    {
      "cell_type": "markdown",
      "source": [
        "## Agglomerative Clustering"
      ],
      "metadata": {
        "id": "vJOPH55dsdBo"
      }
    },
    {
      "cell_type": "markdown",
      "source": [
        "### Visualizing the working of the Dendograms"
      ],
      "metadata": {
        "id": "cRH6XFFzxY3G"
      }
    },
    {
      "cell_type": "code",
      "source": [
        "import scipy.cluster.hierarchy as sch\n",
        "plt.figure(figsize=(10,10))\n",
        "dendrogram = sch.dendrogram(sch.linkage(X_new, method = 'ward'))\n",
        "plt.title('Dendrogram')\n",
        "plt.xlabel('Customers')\n",
        "plt.ylabel('Euclidean distances')\n",
        "plt.show()"
      ],
      "metadata": {
        "colab": {
          "base_uri": "https://localhost:8080/",
          "height": 621
        },
        "id": "Hl0xJ9VXsVtA",
        "outputId": "94ca61d0-9978-4023-e14e-8a9b9dbed85e"
      },
      "execution_count": null,
      "outputs": [
        {
          "output_type": "display_data",
          "data": {
            "image/png": "[encoded data removed]",
            "text/plain": [
              "<Figure size 720x720 with 1 Axes>"
            ]
          },
          "metadata": {
            "needs_background": "light"
          }
        }
      ]
    },
    {
      "cell_type": "markdown",
      "source": [
        "### Silhouette Method\n",
        "untuk mencari jumlah cluster"
      ],
      "metadata": {
        "id": "9cZ991yzxfFh"
      }
    },
    {
      "cell_type": "code",
      "source": [
        "from sklearn.cluster import AgglomerativeClustering\n",
        "from sklearn.metrics import silhouette_samples, silhouette_score\n",
        "\n",
        "sh_list = []\n",
        "for num_clusters in range(2, 11):\n",
        "    ac = AgglomerativeClustering(n_clusters=num_clusters)\n",
        "    cluster_labels = ac.fit_predict(X_new)\n",
        "\n",
        "    score = silhouette_score(X_new, cluster_labels)\n",
        "    sh_list.append(score)\n",
        "    print(\"For n_clusters = {}, silhouette score is {})\".format(num_clusters, score))"
      ],
      "metadata": {
        "colab": {
          "base_uri": "https://localhost:8080/"
        },
        "id": "GXK7D3-zsyFZ",
        "outputId": "60689518-70ba-4776-f799-6106b1cc72e7"
      },
      "execution_count": null,
      "outputs": [
        {
          "output_type": "stream",
          "name": "stdout",
          "text": [
            "For n_clusters = 2, silhouette score is 0.5194624832665107)\n",
            "For n_clusters = 3, silhouette score is 0.4469979431226989)\n",
            "For n_clusters = 4, silhouette score is 0.3444266582171814)\n",
            "For n_clusters = 5, silhouette score is 0.35032447507156306)\n",
            "For n_clusters = 6, silhouette score is 0.3460050179221861)\n",
            "For n_clusters = 7, silhouette score is 0.3643550186201911)\n",
            "For n_clusters = 8, silhouette score is 0.3659419625588666)\n",
            "For n_clusters = 9, silhouette score is 0.38894347203023516)\n",
            "For n_clusters = 10, silhouette score is 0.41403790085368813)\n"
          ]
        }
      ]
    },
    {
      "cell_type": "code",
      "source": [
        "plt.plot(range(2,11),sh_list, marker='o', linewidth=2, markersize=8)\n",
        "plt.xlabel(\"Number of Clusters\", size=13)\n",
        "plt.ylabel(\"silhouette score\", size=13)\n",
        "plt.title(\"Different silhouette score for Different Number of Clusters\")\n",
        "plt.show()\n"
      ],
      "metadata": {
        "colab": {
          "base_uri": "https://localhost:8080/",
          "height": 298
        },
        "id": "Z_gnUbxNs9Hz",
        "outputId": "777a3545-4a6d-431b-aa03-d8542bdddae6"
      },
      "execution_count": null,
      "outputs": [
        {
          "output_type": "display_data",
          "data": {
            "image/png": "[encoded data removed]",
            "text/plain": [
              "<Figure size 432x288 with 1 Axes>"
            ]
          },
          "metadata": {
            "needs_background": "light"
          }
        }
      ]
    },
    {
      "cell_type": "markdown",
      "source": [
        "## Agglomerative Clustering"
      ],
      "metadata": {
        "id": "xehMTtmrwExo"
      }
    },
    {
      "cell_type": "code",
      "source": [
        "\n",
        "ac = AgglomerativeClustering(n_clusters=2)\n",
        "ac.fit(X_new)\n",
        "labels = ac.labels_\n",
        "df_new['cluster_labels'] = labels\n",
        "df_new.head()"
      ],
      "metadata": {
        "colab": {
          "base_uri": "https://localhost:8080/",
          "height": 206
        },
        "id": "R4E-StJQwJGo",
        "outputId": "16903cdb-b385-43a2-a2b4-72e70fdb435f"
      },
      "execution_count": null,
      "outputs": [
        {
          "output_type": "execute_result",
          "data": {
            "text/html": [
              "\n",
              "  <div id=\"df-fb9d5f1f-3c87-44c0-a460-23ea9ba56524\">\n",
              "    <div class=\"colab-df-container\">\n",
              "      <div>\n",
              "<style scoped>\n",
              "    .dataframe tbody tr th:only-of-type {\n",
              "        vertical-align: middle;\n",
              "    }\n",
              "\n",
              "    .dataframe tbody tr th {\n",
              "        vertical-align: top;\n",
              "    }\n",
              "\n",
              "    .dataframe thead th {\n",
              "        text-align: right;\n",
              "    }\n",
              "</style>\n",
              "<table border=\"1\" class=\"dataframe\">\n",
              "  <thead>\n",
              "    <tr style=\"text-align: right;\">\n",
              "      <th></th>\n",
              "      <th>Gender</th>\n",
              "      <th>Age</th>\n",
              "      <th>Annual Income (k$)</th>\n",
              "      <th>Spending Score (1-100)</th>\n",
              "      <th>cluster_labels</th>\n",
              "    </tr>\n",
              "  </thead>\n",
              "  <tbody>\n",
              "    <tr>\n",
              "      <th>0</th>\n",
              "      <td>1</td>\n",
              "      <td>19</td>\n",
              "      <td>15</td>\n",
              "      <td>39</td>\n",
              "      <td>0</td>\n",
              "    </tr>\n",
              "    <tr>\n",
              "      <th>1</th>\n",
              "      <td>1</td>\n",
              "      <td>21</td>\n",
              "      <td>15</td>\n",
              "      <td>81</td>\n",
              "      <td>0</td>\n",
              "    </tr>\n",
              "    <tr>\n",
              "      <th>2</th>\n",
              "      <td>0</td>\n",
              "      <td>20</td>\n",
              "      <td>16</td>\n",
              "      <td>6</td>\n",
              "      <td>1</td>\n",
              "    </tr>\n",
              "    <tr>\n",
              "      <th>3</th>\n",
              "      <td>0</td>\n",
              "      <td>23</td>\n",
              "      <td>16</td>\n",
              "      <td>77</td>\n",
              "      <td>1</td>\n",
              "    </tr>\n",
              "    <tr>\n",
              "      <th>4</th>\n",
              "      <td>0</td>\n",
              "      <td>31</td>\n",
              "      <td>17</td>\n",
              "      <td>40</td>\n",
              "      <td>1</td>\n",
              "    </tr>\n",
              "  </tbody>\n",
              "</table>\n",
              "</div>\n",
              "      <button class=\"colab-df-convert\" onclick=\"convertToInteractive('df-fb9d5f1f-3c87-44c0-a460-23ea9ba56524')\"\n",
              "              title=\"Convert this dataframe to an interactive table.\"\n",
              "              style=\"display:none;\">\n",
              "        \n",
              "  <svg xmlns=\"http://www.w3.org/2000/svg\" height=\"24px\"viewBox=\"0 0 24 24\"\n",
              "       width=\"24px\">\n",
              "    <path d=\"M0 0h24v24H0V0z\" fill=\"none\"/>\n",
              "    <path d=\"M18.56 5.44l.94 2.06.94-2.06 2.06-.94-2.06-.94-.94-2.06-.94 2.06-2.06.94zm-11 1L8.5 8.5l.94-2.06 2.06-.94-2.06-.94L8.5 2.5l-.94 2.06-2.06.94zm10 10l.94 2.06.94-2.06 2.06-.94-2.06-.94-.94-2.06-.94 2.06-2.06.94z\"/><path d=\"M17.41 7.96l-1.37-1.37c-.4-.4-.92-.59-1.43-.59-.52 0-1.04.2-1.43.59L10.3 9.45l-7.72 7.72c-.78.78-.78 2.05 0 2.83L4 21.41c.39.39.9.59 1.41.59.51 0 1.02-.2 1.41-.59l7.78-7.78 2.81-2.81c.8-.78.8-2.07 0-2.86zM5.41 20L4 18.59l7.72-7.72 1.47 1.35L5.41 20z\"/>\n",
              "  </svg>\n",
              "      </button>\n",
              "      \n",
              "  <style>\n",
              "    .colab-df-container {\n",
              "      display:flex;\n",
              "      flex-wrap:wrap;\n",
              "      gap: 12px;\n",
              "    }\n",
              "\n",
              "    .colab-df-convert {\n",
              "      background-color: #E8F0FE;\n",
              "      border: none;\n",
              "      border-radius: 50%;\n",
              "      cursor: pointer;\n",
              "      display: none;\n",
              "      fill: #1967D2;\n",
              "      height: 32px;\n",
              "      padding: 0 0 0 0;\n",
              "      width: 32px;\n",
              "    }\n",
              "\n",
              "    .colab-df-convert:hover {\n",
              "      background-color: #E2EBFA;\n",
              "      box-shadow: 0px 1px 2px rgba(60, 64, 67, 0.3), 0px 1px 3px 1px rgba(60, 64, 67, 0.15);\n",
              "      fill: #174EA6;\n",
              "    }\n",
              "\n",
              "    [theme=dark] .colab-df-convert {\n",
              "      background-color: #3B4455;\n",
              "      fill: #D2E3FC;\n",
              "    }\n",
              "\n",
              "    [theme=dark] .colab-df-convert:hover {\n",
              "      background-color: #434B5C;\n",
              "      box-shadow: 0px 1px 3px 1px rgba(0, 0, 0, 0.15);\n",
              "      filter: drop-shadow(0px 1px 2px rgba(0, 0, 0, 0.3));\n",
              "      fill: #FFFFFF;\n",
              "    }\n",
              "  </style>\n",
              "\n",
              "      <script>\n",
              "        const buttonEl =\n",
              "          document.querySelector('#df-fb9d5f1f-3c87-44c0-a460-23ea9ba56524 button.colab-df-convert');\n",
              "        buttonEl.style.display =\n",
              "          google.colab.kernel.accessAllowed ? 'block' : 'none';\n",
              "\n",
              "        async function convertToInteractive(key) {\n",
              "          const element = document.querySelector('#df-fb9d5f1f-3c87-44c0-a460-23ea9ba56524');\n",
              "          const dataTable =\n",
              "            await google.colab.kernel.invokeFunction('convertToInteractive',\n",
              "                                                     [key], {});\n",
              "          if (!dataTable) return;\n",
              "\n",
              "          const docLinkHtml = 'Like what you see? Visit the ' +\n",
              "            '<a target=\"_blank\" href=https://colab.research.google.com/notebooks/data_table.ipynb>data table notebook</a>'\n",
              "            + ' to learn more about interactive tables.';\n",
              "          element.innerHTML = '';\n",
              "          dataTable['output_type'] = 'display_data';\n",
              "          await google.colab.output.renderOutput(dataTable, element);\n",
              "          const docLink = document.createElement('div');\n",
              "          docLink.innerHTML = docLinkHtml;\n",
              "          element.appendChild(docLink);\n",
              "        }\n",
              "      </script>\n",
              "    </div>\n",
              "  </div>\n",
              "  "
            ],
            "text/plain": [
              "   Gender  Age  Annual Income (k$)  Spending Score (1-100)  cluster_labels\n",
              "0       1   19                  15                      39               0\n",
              "1       1   21                  15                      81               0\n",
              "2       0   20                  16                       6               1\n",
              "3       0   23                  16                      77               1\n",
              "4       0   31                  17                      40               1"
            ]
          },
          "metadata": {},
          "execution_count": 55
        }
      ]
    },
    {
      "cell_type": "markdown",
      "source": [
        "### Visualization"
      ],
      "metadata": {
        "id": "7pyGIPkcxwb-"
      }
    },
    {
      "cell_type": "code",
      "source": [
        "import seaborn as sns\n",
        "\n",
        "plt.figure(figsize=(8,6))\n",
        "x_val = 'Annual Income (k$)'\n",
        "y_val = 'Spending Score (1-100)'\n",
        "sns.scatterplot(x=x_val, y=y_val, hue='cluster_labels', data=df_new, palette='Paired')\n",
        "\n",
        "plt.legend(loc='lower right')\n",
        "plt.show()"
      ],
      "metadata": {
        "colab": {
          "base_uri": "https://localhost:8080/",
          "height": 388
        },
        "id": "C2p5XTWkwS1P",
        "outputId": "9ba1d6b8-bbde-46d2-de59-6d208da60721"
      },
      "execution_count": null,
      "outputs": [
        {
          "output_type": "display_data",
          "data": {
            "image/png": "[encoded data removed]",
            "text/plain": [
              "<Figure size 576x432 with 1 Axes>"
            ]
          },
          "metadata": {
            "needs_background": "light"
          }
        }
      ]
    }
  ]
}